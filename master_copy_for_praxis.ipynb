{
  "cells": [
    {
      "cell_type": "markdown",
      "metadata": {
        "id": "view-in-github",
        "colab_type": "text"
      },
      "source": [
        "<a href=\"https://colab.research.google.com/github/mettalrose/DS2F_Workshop_Text_Mining/blob/master/master_copy_for_praxis.ipynb\" target=\"_parent\"><img src=\"https://colab.research.google.com/assets/colab-badge.svg\" alt=\"Open In Colab\"/></a>"
      ]
    },
    {
      "cell_type": "markdown",
      "id": "213a3be7-bddb-4a47-b580-86b3bfeae8fb",
      "metadata": {
        "id": "213a3be7-bddb-4a47-b580-86b3bfeae8fb"
      },
      "source": [
        "\n",
        "<h1>A Gentle DIY Introduction to Text Mining and Python for Humanities People</h1>\n",
        "\n",
        "<h2>A Computational Notebook</h2>\n",
        "    <h3> — Anuj Gupta </h3>\n",
        "    <h3> — Heather Froehlich </h3>\n",
        "\n",
        "\n"
      ]
    },
    {
      "cell_type": "markdown",
      "id": "39467d6d-c58c-4ad1-b8e7-a46f88de4ec3",
      "metadata": {
        "id": "39467d6d-c58c-4ad1-b8e7-a46f88de4ec3"
      },
      "source": [
        "\n",
        "***Let's get started!***\n",
        "\n",
        "    \n",
        "\n"
      ]
    },
    {
      "cell_type": "markdown",
      "id": "bbbb4e14-5363-4361-a72b-f154706954f1",
      "metadata": {
        "id": "bbbb4e14-5363-4361-a72b-f154706954f1"
      },
      "source": [
        "\n",
        "<h3> OBJECTIVES </h3>\n",
        "\n",
        "\n",
        "\n",
        "1.   **ENCOUNTER**  the Natural Language Processing Toolkit (NLTK), a library for performing specific analyses of linguistic (i.e. textual) data\n",
        "2.   **PRACTICE** how to use computational methods that can help in analysing textual data using several common techniques: frequency distributions, data visualizations, and concordances.\n",
        "\n",
        "1.   **BRAINSTORM** how some of those techniques could be applied to your own work\n",
        "\n",
        "\n",
        "<h3> OVERVIEW </h3>\n",
        "\n",
        "\n",
        "1.   **TIME REQUIRED**: 90 mins\n",
        "\n",
        "2.   **MATERIALS NEEDED**:\n",
        "\n",
        "* <u>Google Collab Notebook</u>: A Google Collab notebook, which is what you are seeing right now, is an example of a \"computational notebook\" which is like a Google Docs environment for coding. You can run code in this interactive environment which is interspersed with textual commentary. You can also edit the code and write new code. Google Collab provides a user-friendly environment to practice coding.\n",
        "\n",
        "* <u> Web Browser</u>: Google Collab works best with Google Chrome, Mozilla Firefox, and Microsoft Edge. We recommend users to use their web browsers to avoid errors.\n",
        "\n",
        "* <u>A working internet connection </u>: This notebook runs on the internet so please make sure you have a decent internet connection.\n",
        "\n",
        "* <u> Accompanying article and videos</u>: While this notebook can definitely be used just on its own, we recommend using it in conjuction with its accompanying article in the journal Kairos which helps users understand the need for text-mining and also contains walkthrough videos to help you whenever you get stuck.\n",
        "\n",
        "3.   **PRE-REQUISITE KNOWLEDGE**:\n",
        "\n",
        "* <u>No prior programming knowledge needed</u>: We have designed this computational notebook assuming that our readers do not have any prior knowledge or experience working with Python, any other computer programming language, or any kind of data at all.\n",
        "\n",
        "\n",
        "4. **SECTIONS IN THIS COMPUTATIONAL NOTEBOOK**:\n",
        "\n",
        "\n",
        "*   <u>Part 1: Basic Setup</u>: In this section, you will get a basic overview of how to use a Google Collab based computational notebook, basics of using the Python programming language, and an introduction to NLTK or the Natural Language Tool Kit (NLTK), a library for performing specific analyses of linguistic (i.e. textual) data.\n",
        "\n",
        "*   <u>Part 2: Text Mining Techniques </u>: In this section, you will learn several common text mining techniques: frequency distributions, dispersion plots, concordances, and collocation methods. We will provide you with code and sample data to practice these techniques on and also share iconic studies that utilize these techniques.\n",
        "\n",
        "*   <u>Part 3: Further Exploration </u>: In this final section, we will share a list of resources that you can puruse on your own to continue your learning journey in the world text-mining.  \n",
        "\n",
        "\n",
        "5. **HOW TO ENGAGE WITH THIS COMPUTATIONAL NOTEBOOK**:\n",
        "\n",
        "\n",
        "*  <u>Sequential Sections</u>: Each section of this notebook is designed to build upon the knowledge and information from the previous section. While it's recommended to experience the sections in sequence, you are welcome to use individual sections independently if that better aligns with your objectives.\n",
        "\n",
        "*  <u>Stepping away</u>: If you step away from the computer, it is possible that the notebook might stop functioning if kept idle for a long time. If that happens, simply fresh the page or open the notebook again.\n",
        "\n",
        "*  <u>Saving Progress</u>: Keep in mind that this notebook will not automatically save your progress. If you stop in the middle, you will need to start again from the top. Alternatively, if you want to save your progress, you can simply save a version of this notebook in your Google Drive.   \n",
        "\n"
      ]
    },
    {
      "cell_type": "markdown",
      "id": "a24565a3-3c75-4828-a9df-cc75224a86b0",
      "metadata": {
        "id": "a24565a3-3c75-4828-a9df-cc75224a86b0"
      },
      "source": [
        "<h1> Part 1: Basic Setup </h1>\n",
        "\n",
        "<p>In this section, you will get a basic overview of how to use a Google Collab based computational notebook, basics of using the Python programming language, and an introduction to NLTK or the Natural Language Tool Kit (NLTK) (Bird et al., 2019), a library for performing specific analyses of linguistic (i.e. textual) data.  </p>\n",
        "\n",
        "\n"
      ]
    },
    {
      "cell_type": "markdown",
      "source": [
        "**1.1: What is Google Collab?**\n",
        "\n",
        "What you see on your screens is something called a Google Collab Computational Notebook. Think of this as a Google Docs for coding. In a computational notebook, you can write computer code and run it without going into a command line prompt on your own computer, which is where people historically wrote computer code. You can also invite other people to collaborate on your work with you. Importantly, any code you run here lives solely in your browser, though once you get comfortable working with scripting languages, you may want to learn how to execute these on your own in your own command line prompt. For now though, lets use this Google Collab environment itself. You have already overcome the first hurdle, by loading this Google Collab notebook!"
      ],
      "metadata": {
        "id": "_6XBzgS-xZED"
      },
      "id": "_6XBzgS-xZED"
    },
    {
      "cell_type": "markdown",
      "id": "0eb11dba-25fd-4cc0-b8b4-8fb60b0ec14e",
      "metadata": {
        "id": "0eb11dba-25fd-4cc0-b8b4-8fb60b0ec14e"
      },
      "source": [
        "**1.2: What is a code cell in Google Collab and how to run it?**\n",
        "<p> Google Collab contains two types of cells: text cells and code cells. A text cell is simply like the on you are currently reading where we can use HTML to write prose and format it. A code cell, on the other hand, what you can see below, is a special space where you can write, edit, or run pre-written code. <u>In a Google Collab notebook, code is primarily written in the programming language called \"Python\"</u>.\n",
        "\n",
        "When we say \"run\" code, we simply mean clicking on the ▶ button that appears on the left of a code cell when you hover over it. </p>\n",
        "\n",
        "Try to run the cell below that starts with the word \"print\" ! Just hover over the cell on play button or the ▶ button that appears to left of the cell. </p>\n"
      ]
    },
    {
      "cell_type": "code",
      "execution_count": null,
      "id": "edb0f28a-b14e-4844-b8fb-5155467818f3",
      "metadata": {
        "id": "edb0f28a-b14e-4844-b8fb-5155467818f3"
      },
      "outputs": [],
      "source": [
        " print(\"Hi! Try to print me.\")"
      ]
    },
    {
      "cell_type": "markdown",
      "source": [
        "**1.3 Accepting Warnings**\n",
        "\n",
        "The first time you run this cell, you'll notice a warning appear asking you to be cautious when running computational notebooks from the internet. That is an important caution that you should keep in mind when running notebooks whose authenticity and credibility you are unsure of. Since the current notebook has been peer reviewed, you can safely click on \"Run Anyway\"."
      ],
      "metadata": {
        "id": "Zl337ETO0OBl"
      },
      "id": "Zl337ETO0OBl"
    },
    {
      "cell_type": "markdown",
      "id": "369cfe4e-65b0-48cc-9224-552e10b01114",
      "metadata": {
        "id": "369cfe4e-65b0-48cc-9224-552e10b01114"
      },
      "source": [
        "<b>1.4: Reading Results after Running Code</b>\n",
        "If all goes well, i.e. if your code has run successfully, you should see a little green tick mark next to the code cell along with a time reference indicating how long it took to run that code and finally the results of what running that code did at the bottom of your code cell.\n",
        "\n",
        "Congratulations. You've just run your first ever code cell. In this code, we simply told the computer to print or show us as the output whatever sentence was written within the bracket. If your code worked properly, you should be seing the sentence \"Hi! Try to print me\" below the code cell.\n",
        "\n",
        "Notice, that the input code cell, which was once represented as:\n",
        "\n",
        "`[ ]:`\n",
        "\n",
        "has now become:\n",
        "\n",
        "`[1]:`\n",
        "\n",
        "This means your code in that particular cell has run, and it was the first code cell that you ran (hence the `1`). If you run the same block multiple times, you'll see that this number will keep on increasing.\n",
        "\n",
        "***\n",
        "\n",
        "This code ran quickly. However, sometimes it might take some time. If your code is still running it'll look like rotating circle:\n",
        "\n",
        "![Screenshot 2023-10-09 at 12.06.02 PM.png](data:image/png;base64,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)\n",
        "\n",
        "That rotating circle means this cell of code is still running. Be patient whenever you see this sign."
      ]
    },
    {
      "cell_type": "markdown",
      "source": [
        "<b> 1.5 Understanding Errors </b>\n",
        "\n",
        "Python is very good at noticing mistakes. These mistakes can either be a typo that we make or some error in the logic of our commands. Whenever we make such mistakes, Python tells us what we have done by displaying an error message. It is useful to learn how to read those messages so we can correct our mistakes.\n",
        "\n",
        "In the example you see below, if you spell \"print\" as \"drint\", see what error message gets displayed when you run the cell."
      ],
      "metadata": {
        "id": "hlnd2BQo1vXr"
      },
      "id": "hlnd2BQo1vXr"
    },
    {
      "cell_type": "code",
      "execution_count": null,
      "id": "5be45595-b913-484b-889c-3e14358acbd2",
      "metadata": {
        "id": "5be45595-b913-484b-889c-3e14358acbd2"
      },
      "outputs": [],
      "source": [
        "drint(\"this will not print because of a syntax error\")"
      ]
    },
    {
      "cell_type": "markdown",
      "source": [
        "The error message should tell you something like \"name 'drint' is not defined. When you find out what the error is, you can simply correct it. Go to the code cell again and change the word \"drint\" to \"print\" and re-run it. It should work fine now."
      ],
      "metadata": {
        "id": "vu516VrR2NHI"
      },
      "id": "vu516VrR2NHI"
    },
    {
      "cell_type": "markdown",
      "id": "bfb3cb36-bc92-4e76-9bff-1f7664e54fd7",
      "metadata": {
        "tags": [],
        "id": "bfb3cb36-bc92-4e76-9bff-1f7664e54fd7"
      },
      "source": [
        "<b> 1.6 What is Python? </b>\n",
        "\n",
        "Python is one of the many computer languages that exist in the world. Programming languages are not entirely like natural languages, but they allow us to communicate with our computers to do increasingly advanced things.\n",
        "\n",
        "Python has become very popular in recent years and is used widely today because:\n",
        "* Lots of resources available online to learn it\n",
        "* Compared to many other programming languages, it is closest in syntax and lexicon to human languages like English, which makes it easier for English speakers to use"
      ]
    },
    {
      "cell_type": "markdown",
      "id": "6917edde-2741-4fed-967f-7b86f8d01c8e",
      "metadata": {
        "id": "6917edde-2741-4fed-967f-7b86f8d01c8e"
      },
      "source": [
        "<b> 1.7 Writing programs in Python </b>\n",
        "\n",
        "<p> When we write code in Python, we are simply writing commands in a language that our computer understands. Essentially we are telling the computer to do something for us.\n",
        "\n",
        "For example, let's use Python to tell the computer to do some addition for us. Observe carefully the syntax of the commands we write in the code cell below and run the cell to see what happens with these commands: </p>"
      ]
    },
    {
      "cell_type": "code",
      "execution_count": null,
      "id": "41f9d6fc-f401-47fa-945c-866f86ef958a",
      "metadata": {
        "id": "41f9d6fc-f401-47fa-945c-866f86ef958a"
      },
      "outputs": [],
      "source": [
        "first_number = 5\n",
        "second_number = 7\n",
        "sum = first_number + second_number\n",
        "print(\"the sum of these numbers is \",sum)"
      ]
    },
    {
      "cell_type": "markdown",
      "id": "9e938563-9fa3-4e0c-9533-c1b72338aed8",
      "metadata": {
        "id": "9e938563-9fa3-4e0c-9533-c1b72338aed8"
      },
      "source": [
        "<p>Excellent! What we did here is simply to create variables called \"first_number\" and \"second_number\" and then to store certain data in them (the numbers 5 and 7). Then we created a new variable called \"sum\" and told the computer that we want to store the sum of those first two variables in that third variable. Finally, we asked the computer to print or display whatever is stored in that third variable called \"sum\" along with some text \"the sum of these numbers is \" in the display space.\n",
        "\n",
        "If you understand how to use this basic syntax to tell your computer how to store things and how you want to create complex relationships between those stored things, you can do amazing and powerful things. Everything we use on a computer, including social media, netflix, data science, AI, games, sending rockets to the moon etc. — everything has been built using these rudimentary building blocks. Its all about building more and more complexity to this basic structure. Amazing isn't it? </p>"
      ]
    },
    {
      "cell_type": "markdown",
      "id": "c7309039-de44-47fa-95c6-fd7891ef4b90",
      "metadata": {
        "id": "c7309039-de44-47fa-95c6-fd7891ef4b90"
      },
      "source": [
        "<b> 1.8 Understanding functions in Python </b>\n",
        "<p> Rarely do we have to start from scratch when we encounter a programming language. Instead, we can call up bits of code written by other people and supplement it with what our particular needs are. Each bit of code written by someone else that we can use is called a \"function\". For example, in the above cells we just wrote code for a \"sum\" function that could add two numbers together. If we anticipate using this code again, we can save in the form of a function and save it. Or we can also search online and find functions already created and saved by members of the Python development community.\n",
        "    \n",
        "<b>Function</b> = <u>collection of code that performs a particular role and can be recycled to suit the needs of different coders</u>.\n",
        "    \n",
        "Let's what this looks like in practice. Observe what is happening in the code cell below:</p>"
      ]
    },
    {
      "cell_type": "code",
      "execution_count": null,
      "id": "1a0cff8f-f6dd-4cde-af02-ae156e282f7b",
      "metadata": {
        "id": "1a0cff8f-f6dd-4cde-af02-ae156e282f7b"
      },
      "outputs": [],
      "source": [
        "text = \"i am a human being trying to learn Python\"\n",
        "count =len(text)\n",
        "print(\"the total number of characters in my text is \" + str(count))"
      ]
    },
    {
      "cell_type": "markdown",
      "id": "aeaa6111-50aa-4346-941d-7bb87da34da9",
      "metadata": {
        "id": "aeaa6111-50aa-4346-941d-7bb87da34da9"
      },
      "source": [
        "<p>Here we have used a function called \"len\" which means \"length\" and it basically just calculates the number of characters (alphabets, numbers, punctuation, spaces etc.) that we have stored in a variable. People who created Python wrote the code for this function and simply saved it using the abbreviation \"len\" so we can just type that instead of having to type the corresponding code everytime. Programmers like being efficient; shortened forms like this are common as they reduce the amount of typing someone will have to do</p>"
      ]
    },
    {
      "cell_type": "markdown",
      "id": "68022347-6c68-43b5-a28a-182869b2d756",
      "metadata": {
        "id": "68022347-6c68-43b5-a28a-182869b2d756"
      },
      "source": [
        "<p> Just like this \"len\" function there are millions of functions for which people across the world have written code so that we don't need to reinvent the wheel each time. We can simply recycle these functions for our purposes and stand on the shoulders of giants, kind of like how in academic writing we use ideas from other scholars.\n",
        "\n",
        "To learn about some of these basic functions, you can visit this link:</p> https://docs.python.org/3/library/functions.html\n",
        "\n",
        "<b>Citation Norms</b>: Unlike in academi writing, to the best of our knowledge, citation norms in coding aren't as formally defined. It is always a good practice, however, to cite the functions that we borrow from others. As we will see below when we use functions from the NLTK library, usually the sources that we get the functions from have information about how to cite them. We'll discuss this in more detail below. For now, let's try out some functions in Python."
      ]
    },
    {
      "cell_type": "markdown",
      "id": "35ff6791-df67-45fd-8ef8-774706f33cbc",
      "metadata": {
        "tags": [],
        "id": "35ff6791-df67-45fd-8ef8-774706f33cbc"
      },
      "source": [
        "\n",
        "\n",
        "<b>Exercise 1: Trying out Python Functions</b>\n",
        "\n",
        "In the cells below, first replace the text that says \"input your text here\" with any sentence you like and run it. Make sure to run this cell first. Then run second cell that follows to see how many characters it contains"
      ]
    },
    {
      "cell_type": "code",
      "execution_count": null,
      "id": "61738c78-a418-454b-aaf5-e7816b164f55",
      "metadata": {
        "id": "61738c78-a418-454b-aaf5-e7816b164f55"
      },
      "outputs": [],
      "source": [
        "my_text = \"input your text here\"\n"
      ]
    },
    {
      "cell_type": "code",
      "execution_count": null,
      "id": "bf398747-bd14-4ed4-8bbe-51916e02cbd8",
      "metadata": {
        "id": "bf398747-bd14-4ed4-8bbe-51916e02cbd8"
      },
      "outputs": [],
      "source": [
        "my_count =len(my_text)\n",
        "print(\"the total number of characters in my text is \" + str(my_count))"
      ]
    },
    {
      "cell_type": "markdown",
      "id": "d4a88fba-2674-4fee-b05d-7958d98372bd",
      "metadata": {
        "id": "d4a88fba-2674-4fee-b05d-7958d98372bd"
      },
      "source": [
        "<b> 1.9: Understanding libraries in Python </b>\n",
        "\n",
        "<p> Now if people simply wrote individual functions and uploaded them on various websites, it could create chaos because there would be billions of functions just floating around in the world, make it very difficult for us to see which functions are useful for us to learn for what purpose. So to create some method in this madness, people have come up with the idea of \"libraries\" which are simply collections or bundles of functions clubbed together based on their roles and the domains in which they are useful. Sometimes people might use the words \"libraries\" and \"packages\" inter-changeably.  \n",
        "    \n",
        "<b> Library</b> = <u>bundles of functions that perform similar roles</u>.  \n",
        "\n",
        "Let's see what this looks like in practice"
      ]
    },
    {
      "cell_type": "markdown",
      "id": "17bff814-ec36-4d3c-a9ee-384bcbfdf3ab",
      "metadata": {
        "id": "17bff814-ec36-4d3c-a9ee-384bcbfdf3ab"
      },
      "source": [
        "<b> 1.10: Learning about the NLTK Library </b>\n",
        "\n",
        "<p> \"NLTK\" or the Natural Language ToolKit (© 2023, NLTK Project) is a specific Python library created by these amazing folks (https://www.nltk.org/team.html). It \"is a leading platform for building Python programs to work with human language data\" (Bird et al., 2019). It contains lots of functions that can help us do text mining. We will be using this library throughout.\n",
        "\n",
        "<b>Note on citation:</b> If you visit the website for NLTK (https://www.nltk.org/), you will see that they specify how they would like us to cite NLTK whenever we use it: Bird, Steven, Edward Loper and Ewan Klein (2009), Natural Language Processing with Python. O’Reilly Media Inc. Thus, when write code that uses functions from the NLTK library, and when we write papers that uses such code, it is generally a good practice to write (Bird et al., 2019) as in-text citation and to give a full bibliographic citation towards the end. Unliike in academic writing though, such citations are not mentioned in each line of code. Rather they are mentioned the first time they are referenced in code as well as in a paper to give attributions to the owners of the library.Whenever you use libraries created by other coders, it is good practice to check their licensing information and cite them accordingly."
      ]
    },
    {
      "cell_type": "markdown",
      "source": [
        "<b> 1.11: Download the NLTK Library </b>\n",
        "\n",
        "To use the NLTK library, we need to first download it. When you run the code cell below, you should see a pink box with lots sentences that start with \"Downloading\". Let it run. You'll know its complete when you see \"Done downloading collection book\" appear at the end of the pink box. What is happening here is that certain corpora from the NLTK servers are being downloaded to a local cloud version within Google Collab for you to explore and analyse. </p>"
      ],
      "metadata": {
        "id": "cq7ouejmEp_S"
      },
      "id": "cq7ouejmEp_S"
    },
    {
      "cell_type": "code",
      "execution_count": null,
      "id": "b8bf5d39-c757-4b0e-8ee2-4a481bc63184",
      "metadata": {
        "id": "b8bf5d39-c757-4b0e-8ee2-4a481bc63184"
      },
      "outputs": [],
      "source": [
        "import nltk\n",
        "nltk.download(\"book\")"
      ]
    },
    {
      "cell_type": "markdown",
      "id": "94fd4539-31ca-49f3-9dad-142a6de9b17c",
      "metadata": {
        "id": "94fd4539-31ca-49f3-9dad-142a6de9b17c"
      },
      "source": [
        "<b> 1.12 Exploring the NLTK Library </b>\n",
        "\n",
        "The NLTK library essentially contains two primary things:\n",
        "* <b>Corpora</b>: In linguistic terms, a \"corpus\" (plural: corpora) refers to a systematically organized collection of texts, often used for linguistic research and analysis. These texts can range from literary works to transcriptions of spoken language. The NLTK library includes a wide array of corpora, such as literary texts, linguistic datasets, and other textual resources, facilitating diverse linguistic and computational research.\n",
        "\n",
        "* <b>Text Mining Functions</b>: These are a suite of functions provided by the NLTK to facilitate the analysis, processing, and exploration of textual data. This encompasses various tasks like frequency counts of words etc. among others. These functions are not limited to the corpora included within NLTK; they can also be applied to any external text data that users might want to analyze.\n",
        "\n",
        "To learn more about what all the NLTK library contains, we encourage you to visit their website (https://www.nltk.org/)."
      ]
    },
    {
      "cell_type": "markdown",
      "id": "f2fc1bd3-f659-4d68-bd08-8247394652f9",
      "metadata": {
        "id": "f2fc1bd3-f659-4d68-bd08-8247394652f9"
      },
      "source": [
        "<b> 1.13 Loading corpora </b>\n",
        "<p> As explained in section 1.12 above, a systematically organized collection of texts, often used for linguistic research and analysis. The NLTK library contains some in-built corpora that we can use use to try out NLTK's text-mining functions or functions that help us analyse process and explore textual data.\n",
        "\n",
        "Let's download a few in-built NLTK corpora by clicking on the code cell below. It might take a few seconds to run. You'll know its done running when you see this sentence appear at the bottom:\"text9: The Man Who Was Thursday by G . K . Chesterton 1908\".\n",
        "\n",
        "<b>Important Note</b>: We encourage you to not worry too much about the specific coding syntax we are using to do this as this workshop is not so much about learning the particular syntax, but instead about gaining familiarity what what it can do. That said, we are confident that you can parse out some of the commands provided -- what might the below code block be asking?</p>"
      ]
    },
    {
      "cell_type": "code",
      "execution_count": null,
      "id": "2b413bbd-3b1f-4abe-8714-c19d980032bf",
      "metadata": {
        "id": "2b413bbd-3b1f-4abe-8714-c19d980032bf"
      },
      "outputs": [],
      "source": [
        "from nltk.book import*"
      ]
    },
    {
      "cell_type": "markdown",
      "id": "1fcdb5b9-4bf2-4e5b-a4cb-25771b7a031f",
      "metadata": {
        "id": "1fcdb5b9-4bf2-4e5b-a4cb-25771b7a031f"
      },
      "source": [
        "<p> Using the command in the code cell above, NLTK makes available 9 of its most popular corpora available to us to explore and analyse. There is no particular reason why NLTK provides 9 and not 10 or 11 corpora through this command. It is just a randomly selected number of texts that it provides with this command. There are other commands through which we can access other kinds of corpora in NLTK. You can learn more about those here (https://www.nltk.org/book/ch02.html).\n",
        "\n",
        "As we can probably infer from the output above, Python has just downloaded 9 corpora, each of which represents a different kind of textual data from the English language. It has also stored them in variables ranging from text1 to text9. Each of these corpora is either a famous literary work (like text1 --> Moby Dick) or collection of important socio-political texts (like text4 --> a collection of the inaugural addresses given all American presidents till Bill Clinton) or a smaller subsection of web-based corpora (like text5 --> Chat Corpus is a collection of 10,567 posts collected from various online chat services); and text8 --> this is a collection of personal advertisements in newspapers.  \n",
        "\n",
        "For the purposes of this computational notebook, we will use just these nine corpora. </p>"
      ]
    },
    {
      "cell_type": "markdown",
      "id": "204e8cfe-a5ab-4d5e-8311-54f9ab3f9423",
      "metadata": {
        "tags": [],
        "id": "204e8cfe-a5ab-4d5e-8311-54f9ab3f9423"
      },
      "source": [
        "<b> 1.14 Using NLTK Functions </b>\n",
        "\n",
        "<p> By now, I hope that you are familiar with what functions are. The NLTK has thousands of functions which help us do different kinds of text mining. Let's see how one of these functions called \"concordance\". Concordancing is a function that allows us to see a window of context in which key words that interest appear in the corpora of our choice."
      ]
    },
    {
      "cell_type": "code",
      "execution_count": null,
      "id": "fc297fac-77dd-4434-9498-39979e14ada6",
      "metadata": {
        "id": "fc297fac-77dd-4434-9498-39979e14ada6"
      },
      "outputs": [],
      "source": [
        "text1.concordance(\"God\")"
      ]
    },
    {
      "cell_type": "markdown",
      "id": "6d3686aa-fba1-488b-8481-f8ac5ce2dc07",
      "metadata": {
        "id": "6d3686aa-fba1-488b-8481-f8ac5ce2dc07"
      },
      "source": [
        "<h1> Part 2: Text Mining Techniques </h1>"
      ]
    },
    {
      "cell_type": "markdown",
      "source": [
        "<p>\n",
        "\n",
        "Now that we understand the basics, let's start exploring some popular text mining techniques. In this notebook, we are introducing you to frequency counts, bar graphs, dispersion plots, and concordance lines.\n",
        "\n",
        "There are ofcourse not the only kind of text-mining techniques. To go more in-depth into a wider range of techniques that are used in text-mining based research, we encourage you to explore Janicke et al. (2015), Jockers (2013), Aull (2017), Underwood (2017), and Walsh (2021).   \n",
        "\n",
        "</p>"
      ],
      "metadata": {
        "id": "D24oYIjbfE2y"
      },
      "id": "D24oYIjbfE2y"
    },
    {
      "cell_type": "markdown",
      "id": "0dee5cd9-4d13-426a-8e17-704804fcd4f5",
      "metadata": {
        "id": "0dee5cd9-4d13-426a-8e17-704804fcd4f5"
      },
      "source": [
        "\n",
        "       \n",
        "<b> 2.1: Technique Type: 1: Frequency Counts <b>\n",
        "\n",
        "\n"
      ]
    },
    {
      "cell_type": "markdown",
      "id": "f31e0590-4878-4112-8f22-d9565342b165",
      "metadata": {
        "id": "f31e0590-4878-4112-8f22-d9565342b165"
      },
      "source": [
        "<b> 2.1.1: What is \"frequency\" and why should we care? </b>\n",
        "\n",
        "<p> Counting the frequency of words in a text or corpus is one of the most basic text mining function that can be performed. Finding “high-frequency words [is] valuable because they have “aboutness”; they suggest what the overall textual object is about\" (Archer, 2009, p. 4). The frequency of words is “a relatively objective means of uncovering lexical salience/(frequency) patterns that invite—and frequently repay—further qualitative investigation\" (Archer, 2009, p.15).\n",
        "</p>"
      ]
    },
    {
      "cell_type": "markdown",
      "id": "e553254e-e115-45a9-8bd7-63a8eaa80a83",
      "metadata": {
        "id": "e553254e-e115-45a9-8bd7-63a8eaa80a83"
      },
      "source": [
        "We can use a simple function called \"count\" to find the frequency or the number of times a word appears in a text. Let's see how it works by using Moby Dick (text1) as an example. Let's say that we might be interested in finding out more about the word \"God\" and how many times it appears in this text."
      ]
    },
    {
      "cell_type": "code",
      "execution_count": null,
      "id": "d77f7f4e-0113-4bd8-8571-3e9bc8e10484",
      "metadata": {
        "id": "d77f7f4e-0113-4bd8-8571-3e9bc8e10484"
      },
      "outputs": [],
      "source": [
        "#Let's create code that will help us find the frequency of the word \"God\" in Moby Dick\n",
        "\n",
        "text1.count(\"God\")\n",
        "\n",
        "#In the line of code above, we first type the name of the variable where we saved the Moby Dick corpus. If you look at Section 1.13, you'll see it was text 1.\n",
        "#Next we add an in-built NLTK function called \"count\" to and in paranthesis and within double quotes we write the word whose frequency counts we want to see. In this case that is the word \"God\"\n",
        "\n"
      ]
    },
    {
      "cell_type": "markdown",
      "id": "454367d3-68b7-4864-9b2e-60bd467beb2a",
      "metadata": {
        "id": "454367d3-68b7-4864-9b2e-60bd467beb2a"
      },
      "source": [
        "This shows us that the word \"God\" appears 132 times in the book Moby Dick. How many times do you think it would appear in the Book of Genesis? More or less than in Moby Dick? Let's find out!"
      ]
    },
    {
      "cell_type": "markdown",
      "id": "9f7f8ba0-6807-4eb7-a64d-f35e906caeee",
      "metadata": {
        "id": "9f7f8ba0-6807-4eb7-a64d-f35e906caeee"
      },
      "source": [
        "    \n",
        "<b> Exercise 2: Trying out Frequency Counts </b>\n",
        "    \n",
        "Write code in the box below to find out how many times the word \"God\" appears in the Book of Genesis. Remember that in the corpus we downloaded, the Book of Genesis is called text3. (To refresh your memory about which variable contains which text from the corpora we downloaded, please refer to Section 1.13 above)\n",
        "\n",
        "<u>Hint</u>: Look at the code cell above and try to replicate that syntax here and just change \"text1\" to \"text3\""
      ]
    },
    {
      "cell_type": "code",
      "execution_count": null,
      "id": "5ef6d7a7-b718-453e-bfd2-13df73ffd9ad",
      "metadata": {
        "id": "5ef6d7a7-b718-453e-bfd2-13df73ffd9ad"
      },
      "outputs": [],
      "source": []
    },
    {
      "cell_type": "markdown",
      "id": "82f0c2f9-213d-42c0-8fba-3f75c4c6db19",
      "metadata": {
        "id": "82f0c2f9-213d-42c0-8fba-3f75c4c6db19"
      },
      "source": [
        "Excellent! Now this simple technique of counting frequency of different words can lead to many interesting insights.\n",
        "\n",
        "For example, things start to get interesting when we compare such frequencies across texts. Let's see how the frequency of the word \"God\" varies across the texts that we have.\n",
        "\n",
        "In the code below, we are creating 9 new variables named a,b,c,d,e,f,g,h,i and in each of them we are storing the total count of the word \"God\" in each of our 9 texts. Run the code cell below and see what happens."
      ]
    },
    {
      "cell_type": "code",
      "execution_count": null,
      "id": "b6b3ad8a-9c42-48e6-bf04-bbee93212597",
      "metadata": {
        "id": "b6b3ad8a-9c42-48e6-bf04-bbee93212597"
      },
      "outputs": [],
      "source": [
        "a = text1.count(\"God\")\n",
        "b = text2.count(\"God\")\n",
        "c = text3.count(\"God\")\n",
        "d = text4.count(\"God\")\n",
        "e = text5.count(\"God\")\n",
        "f = text6.count(\"God\")\n",
        "g = text7.count(\"God\")\n",
        "h = text8.count(\"God\")\n",
        "i = text9.count(\"God\")"
      ]
    },
    {
      "cell_type": "markdown",
      "id": "17f5690c-541e-455c-a287-ebd9dfc5dbc4",
      "metadata": {
        "id": "17f5690c-541e-455c-a287-ebd9dfc5dbc4"
      },
      "source": [
        "What is happening in the code cell above is that for each text (text1, text2, text3, etc.) in our corpora, we have added code for an in-built NLTK function called \"count\", by including the \".count\" suffix. This tells the computer to first identify the source text, and then perform an action (in this case, to count something). We specify \"God\" in the parentheses, telling the computer what we want it to count. These are assigned to new variables that we are naming with individual letters (a, b, c, d, e, f...) with the equals sign, so that the entire function can be called up easily and quickly.\n",
        "\n",
        "As you might see when you run the code cell above, you get a list of numbers but on their own, they are difficult to comprehend. This is why, often such functions are supplemented with \"print statements\" that allow us to add explanatory text in the output. Run the code cell below and see what that does.  "
      ]
    },
    {
      "cell_type": "code",
      "execution_count": null,
      "id": "49eae968-83ed-4aae-adea-1b3cc22f6a34",
      "metadata": {
        "id": "49eae968-83ed-4aae-adea-1b3cc22f6a34"
      },
      "outputs": [],
      "source": [
        "print (\"Frequency Distribution of the word God in the following texts:\")\n",
        "print(\"Moby Dick = \",a)\n",
        "print(\"Sense and Sensibility = \",b)\n",
        "print(\"The Book of Genesis = \",c)\n",
        "print(\"Inaugural Address Corpus =\",d)\n",
        "print(\"Chat Corpus = \",e)\n",
        "print(\"Monty Python and the Holy Grail = \",f)\n",
        "print(\"Wall Street Journal = \",g)\n",
        "print(\"Personal Corpus = \", h)\n",
        "print(\"The Man Who Was Thursaday = \",i)"
      ]
    },
    {
      "cell_type": "markdown",
      "source": [
        "What is happening in the code cell above is that we are using the \"print\" function for each of our corpora. With the first \"print\" statement, we are simply printing or displaying a title sentence that tells us what this analysis is doing. Each subsequent print statement then adds context by giving us the name of each text in our corpora and then displaying the count value of how many times the word \"God\" appears in each of them. Together, this entire output makes it easy to follow the results that the text-mining procedure of frequency count has produced for us.\n",
        "\n",
        "<b> What kind of inferences could we draw from this? </b>\n",
        "\n",
        "<b> Hint: </b> There can be many inferences that one might draw about what the different frequencies of the word \"God\" reveals to us about these texts and the cultures that they come from. Try to think of categories using which we can diffrentiate between texts in our corpus. What happens when we compare them based on their genre? What happens when we compare them based on their years of publication? What about their cultural contexts?\n",
        "\n",
        "While this might seem quite revealing, to make our inferences more robust, we need to ensure that our data are valid. Right now, we have counted pure frequencies of words but in order to compare them across texts, we need to have normalized frequencies."
      ],
      "metadata": {
        "id": "qRDFNvBes5T_"
      },
      "id": "qRDFNvBes5T_"
    },
    {
      "cell_type": "markdown",
      "source": [
        "<b> 2.1.2: Normalized Frequency Counts </b>\n",
        "\n",
        "Imagine if the word \"God\" appears 10 times in text1 and 5 times in text2. On the surface level it would make us infer that the word \"God\" is more important in textA right? However, what if text1 contains 10,000 words and text2 contains only 100 words. That would make the word \"God\" more relevant in textB right? This is why often researchers recommend that \"considering frequencies in terms of standardized percentages is often a more sensible way of making sense of data, particularly when comparisons between two or more datasets of different sizes are made\" (Baker, 2006, p.51).\n",
        "\n",
        "So to make our frequency results more robust, we calculate what is called \"normalized frequencies\" which are essentially standardized percentages that allow us to compare word frequencies across texts of differing lengths. The most common normalized frequency that you might be familiar with is a \"percentage\" where we divide the frequency of the word we are interested in with the total number of words in a corpus and then multiple that with 100. However, since many words that interest us in a text (especially infrequent ones) would have very tiny percentages, scholars often multiply with a larger number (like 1,000,000), to make the numbers more interpretable and avoid very small decimals. Normalized frequencies in textual data can thus be represented using values like FPM or frequencies per million (Bestgen, 2019)\n",
        "\n",
        "This can be done simply using this formula:\n",
        "\n",
        "<b>Normalized frequency of word w in text T (FPM) = (number of times word w appears in text T/ total number of words in text T)* 1000000 </b>\n",
        "\n"
      ],
      "metadata": {
        "id": "94NNmdTq6pT3"
      },
      "id": "94NNmdTq6pT3"
    },
    {
      "cell_type": "markdown",
      "source": [
        "To do this, we need to first calculate the total number of words in each of our texts using the \"len\" or length function we learnt earlier."
      ],
      "metadata": {
        "id": "ps_o5a9B68Gm"
      },
      "id": "ps_o5a9B68Gm"
    },
    {
      "cell_type": "code",
      "source": [
        "#First lets get the total number of words in text1 and save it in a variable called \"text1_1en\" by which we simply mean that it stores length of text1.\n",
        "text1_len=len(text1)\n",
        "\n",
        "#Then lets print the value of the number stored in \"text1_len\"\n",
        "print(text1_len)"
      ],
      "metadata": {
        "id": "S6txV7gi69iC"
      },
      "id": "S6txV7gi69iC",
      "execution_count": null,
      "outputs": []
    },
    {
      "cell_type": "markdown",
      "source": [
        "<b> Exercise 3: Developing Normalized Frequencies </b>\n",
        "   \n",
        "Now you try.\n",
        "\n",
        "Try to find out total number of units in text2 in the box below.\n",
        "\n",
        "<b> Hint</b>: Copy the code from the code above and simply replace \"text1\" with \"text2\", and \"text1_len\" with another variable like \"text2_len\"\n"
      ],
      "metadata": {
        "id": "uvwSmKzkP68K"
      },
      "id": "uvwSmKzkP68K"
    },
    {
      "cell_type": "code",
      "source": [],
      "metadata": {
        "id": "s3T4vhCfQLdd"
      },
      "id": "s3T4vhCfQLdd",
      "execution_count": null,
      "outputs": []
    },
    {
      "cell_type": "markdown",
      "source": [
        "Good job! Now run the code cell below below which will find out the overall lengths of all the texts in our collection. To make it easy for us to remember what these variables do, we are naming them as \"a_len\" which essentially means the length or total number of words in text1.\n"
      ],
      "metadata": {
        "id": "etLSh4rtQL4J"
      },
      "id": "etLSh4rtQL4J"
    },
    {
      "cell_type": "code",
      "source": [
        "text1_len=len(text1)\n",
        "text2_len=len(text2)\n",
        "text3_len=len(text3)\n",
        "text4_len=len(text4)\n",
        "text5_len=len(text5)\n",
        "text6_len=len(text6)\n",
        "text7_len=len(text7)\n",
        "text8_len=len(text8)\n",
        "text9_len=len(text9)"
      ],
      "metadata": {
        "id": "QsaBEgRzQZTk"
      },
      "id": "QsaBEgRzQZTk",
      "execution_count": null,
      "outputs": []
    },
    {
      "cell_type": "markdown",
      "source": [
        "In the code above, we simply calculated the total number of words. Lets now print them by adding some explanatory text along with it. Run the code cell below to do this.\n",
        "\n",
        "By now, you should be familiar with how the \"print\" function allows us to display any text that we want by putting it in double quotes, and the values of any variables we want by putting the name of the variables without any quotes around it."
      ],
      "metadata": {
        "id": "ZK7r3dgaQh4p"
      },
      "id": "ZK7r3dgaQh4p"
    },
    {
      "cell_type": "code",
      "source": [
        "print(\"The length of words (including punctuations) in Moby Dick is \",text1_len)\n",
        "print(\"The length of words (including punctuations) in Sense & Sensibility is \",text2_len)\n",
        "print(\"The length of words (including punctuations) in the Book of Genesis is \",text3_len)\n",
        "print(\"The length of words (including punctuations) in the Inaugural Address Corpus is \",text4_len)\n",
        "print(\"The length of words (including punctuations) in the Chat Corpus is \",text5_len)\n",
        "print(\"The length of words (including punctuations) in Monty Python and the Holy Grail is \",text6_len)\n",
        "print(\"The length of words (including punctuations) in the Wall Street Journal is \",text7_len)\n",
        "print(\"The length of words (including punctuations) in the Personal Corpus is \",text8_len)\n",
        "print(\"The length of words (including punctuations) in The Man Who was Thursday is \",text9_len)\n"
      ],
      "metadata": {
        "id": "x42ajmzYTgHv"
      },
      "id": "x42ajmzYTgHv",
      "execution_count": null,
      "outputs": []
    },
    {
      "cell_type": "markdown",
      "source": [
        "Now let's calculate the normalized frequency of the word \"God\" in our first book, Moby Dick using the formula discussed in Section 2.1.2. In the code below, what we are essentially telling Python is to divide the number of times the word \"God\" appears in Moby Dick (which we had earlier stored in the variable \"a\") by the total number of words in Moby Dick (which we had just stored in the variable \"text1_len\"), and then multiply that by a million. Finally we use another in-built function in Python called \"round\" which rounds the answer off to the nearest whole number. At the end, we save the result in a variable called n_a (short for normalized frequency of a) and then print it."
      ],
      "metadata": {
        "id": "4eiO_uegUicJ"
      },
      "id": "4eiO_uegUicJ"
    },
    {
      "cell_type": "code",
      "source": [
        "#Formula to calculate the normalized frequency of the word \"God\" per 1 million words in the book \"Moby Dick\"\n",
        "n_a = round((a/text1_len)*1000000)\n",
        "print(n_a)"
      ],
      "metadata": {
        "id": "64_th_4kX9aV"
      },
      "id": "64_th_4kX9aV",
      "execution_count": null,
      "outputs": []
    },
    {
      "cell_type": "markdown",
      "source": [
        "Just like this, we can now save normalized frequencies of the word \"God\" in all our texts by running the code cell below:"
      ],
      "metadata": {
        "id": "FJCWkR9vbHAQ"
      },
      "id": "FJCWkR9vbHAQ"
    },
    {
      "cell_type": "code",
      "source": [
        "n_a = round((a/text1_len)*1000000)\n",
        "n_b = round((b/text2_len)*1000000)\n",
        "n_c = round((c/text3_len)*1000000)\n",
        "n_d = round((d/text4_len)*1000000)\n",
        "n_e = round((e/text5_len)*1000000)\n",
        "n_f = round((f/text6_len)*1000000)\n",
        "n_g = round((g/text7_len)*1000000)\n",
        "n_h = round((h/text8_len)*1000000)\n",
        "n_i = round((i/text9_len)*1000000)"
      ],
      "metadata": {
        "id": "VgruL88gbF5L"
      },
      "id": "VgruL88gbF5L",
      "execution_count": null,
      "outputs": []
    },
    {
      "cell_type": "markdown",
      "source": [
        "Now by running the code cell below, lets print the results from our previous code cell where we found out the normalized frequencies of the word \"God\" in our all texts, by adding some explanatory text that makes the results more readable."
      ],
      "metadata": {
        "id": "efbR7LsBbv3n"
      },
      "id": "efbR7LsBbv3n"
    },
    {
      "cell_type": "code",
      "source": [
        "print(\"The normalized frequency of the word God in Moby Dick is \", n_a)\n",
        "print(\"The normalized frequency of the word God in Sense and Sensibility is \", n_b)\n",
        "print(\"The normalized frequency of the word God in the Book of Genesis is \", n_c)\n",
        "print(\"The normalized frequency of the word God in the Inaugural Address Corpus is \",n_d)\n",
        "print(\"The normalized frequency of the word God in the Chat Corpus is \",n_e)\n",
        "print(\"The normalized frequency of the word God in Monty Python and the Holy Grail is \",n_f)\n",
        "print(\"The normalized frequency of the word God in the Wall Street Journal is \",n_g)\n",
        "print(\"The normalized frequency of the word God in Personal Corpus is \", n_h)\n",
        "print(\"The normalized frequency of the word God in The Man Who was Thursday is \", n_a)\n"
      ],
      "metadata": {
        "id": "YqRurjejbwXM"
      },
      "id": "YqRurjejbwXM",
      "execution_count": null,
      "outputs": []
    },
    {
      "cell_type": "markdown",
      "source": [
        "The results that we now have are a lot more robust because we can now more confidently compare them across these texts."
      ],
      "metadata": {
        "id": "5iI7qBB1b_cL"
      },
      "id": "5iI7qBB1b_cL"
    },
    {
      "cell_type": "markdown",
      "id": "d4c807cc-bfe6-4527-891e-15454be5061a",
      "metadata": {
        "id": "d4c807cc-bfe6-4527-891e-15454be5061a"
      },
      "source": [
        "<b> 2.2: Technique Type 2: Data Visualizations </b>"
      ]
    },
    {
      "cell_type": "markdown",
      "id": "b7e48e7d-9bed-47db-82c3-4d38c0753be7",
      "metadata": {
        "id": "b7e48e7d-9bed-47db-82c3-4d38c0753be7"
      },
      "source": [
        "Apart form text-mining results robust, it is also important to make our data and its analysis user-friendly and comprehensible, to enable a wider range of people to infer insights from it. Data visualizations can be very helpful in making that happen! Data Visualizations simply refer to representing data in a way that allows for visual comprehension. This can include using a range of graphs and plots that can help our readers better see patterns in our data that our analysis is trying to reveal.\n",
        "\n",
        "In this notebook, we will learn about two kinds of data visualizations: bar graphs and dispersion plots.\n",
        "\n"
      ]
    },
    {
      "cell_type": "markdown",
      "source": [
        "<b>2.2.1 Bar Graphs</b>\n",
        "\n",
        "<b>What are bar graphs? </b>\n",
        "\n",
        "\n",
        "A bar graph is a simple data visualization that represents the frequency counts of different values that interest us using rectangular shapes. This helps in comparing values across different texts. It can be very powerful in helping us make basic comparisons of frequencies across texts.\n",
        "\n",
        "<b> How can we create bar graphs? </b>\n",
        "\n",
        "Let's try to create a bargraph that will make it easier for us to compare the normalized frequencies we calculated in Section 2.1.2.\n",
        "\n",
        "To create a bar graph, we need to install another Python library apart from NLTK. This is called \"matplotlib\" (Hunter, 2007), a library that helps in creating data visulizations. Run the code cell below to download this library."
      ],
      "metadata": {
        "id": "O9HpWVVfcsYC"
      },
      "id": "O9HpWVVfcsYC"
    },
    {
      "cell_type": "code",
      "execution_count": null,
      "id": "9f07e039-09b1-4ab9-857d-f448e75f19c3",
      "metadata": {
        "id": "9f07e039-09b1-4ab9-857d-f448e75f19c3"
      },
      "outputs": [],
      "source": [
        "from matplotlib import pyplot as plt"
      ]
    },
    {
      "cell_type": "markdown",
      "id": "b8d0e061-4b62-481b-b173-4ea6d721419c",
      "metadata": {
        "id": "b8d0e061-4b62-481b-b173-4ea6d721419c"
      },
      "source": [
        "Now we need to write code that uses functions from this library to create a simple bar graph to visualize the normalized frequencies we calculated in section 2.1.2.\n",
        "\n",
        "In the code cell below, you will see that we have already written this code for you along with explanations (marked in green and followed by a #)of what each line of code is doing. Try your best to understand what is happening in the code, but keep in mind that it is okay if you do not fully understand each line of code. Towards the end of this notebook, you will find lots of resources that we share which will help you gradually develop that technical understanding over time.\n",
        "\n"
      ]
    },
    {
      "cell_type": "code",
      "execution_count": null,
      "id": "eb93ad88-ce40-431a-b192-4a9799de3f16",
      "metadata": {
        "id": "eb93ad88-ce40-431a-b192-4a9799de3f16"
      },
      "outputs": [],
      "source": [
        "#Our goal is here to make a bar graph\n",
        "\n",
        "#We begin by creating an empty visualization canvas called a \"figure\". At this point, there's nothing on the canvas—it's like a blank piece of paper.\n",
        "fig = plt.figure()\n",
        "\n",
        "#Next, on this blank canvas, we want to create an x-y coordinate system (called axes). The list [1,1,1,1] sets the position and size of these axes to form a square shape that fills the entire canvas.\n",
        "ax = fig.add_axes([1,1,1,1])\n",
        "\n",
        "#Next, we give the computer a list of names which will represent the categories or labels on the x-axis of our bar graph.\n",
        "texts = ['Moby', 'Sense', 'Genesis', 'Inaugural', 'Chat','Monty','Wall','Personal','Man']\n",
        "\n",
        "#Next, we tell the computer what values we want each rectangle in our bar graph to represent. We save the values of the normalized frequency counts of the word \"God\" we calculated in Sec 2.1.2\n",
        "frequency = [n_a,n_b,n_c,n_d,n_e,n_f,n_g,n_h,n_i]\n",
        "\n",
        "#Next, we tell the computer that we want it to create a bar-graph using the previously defined x-axis labels (texts) and y-axis values (frequency). In other words, for each name in texts, there's a corresponding bar whose height is determined by the values in frequency.\n",
        "ax.bar(texts,frequency)\n",
        "\n",
        "#In the final step, we simply tell the computer to display our visualization.\n",
        "\n",
        "plt.show()\n",
        "\n",
        "#Source: This visualization was created with the help of documentation about bar graphs provided on the matplotlib library website by Hunter (2007) and the matplotlib development team: https://matplotlib.org/stable/api/_as_gen/matplotlib.pyplot.bar.html"
      ]
    },
    {
      "cell_type": "markdown",
      "id": "32d34a3d-18d4-4354-9fec-1440d9e0b1da",
      "metadata": {
        "id": "32d34a3d-18d4-4354-9fec-1440d9e0b1da"
      },
      "source": [
        "The code above thus has generated a simple bar graph that displays the frequency counts of the word \"God\" across the 9 textural corpora that we downloaded from NLTK. Each line of code is accompanied by a short explanation marked in green and followed by a \"#\" showing what that line of code does.\n",
        "\n",
        "On looking at the graph, we see here that the word \"God\" appears most frequently in the Book of Genesis. Since the Book of Genesis is a religious book, that makes sense because religious texts usually mention the word God many times. Also, interestingly we see that it appears quite frequently in another book called Moby Dick and the Inaugural Address speeches of American Presidents. But it is quite infrequent in corpora that represent personal writing and web-based chats.\n",
        "\n",
        "<b> What kind of inferences could we draw from such bar graphs? </b>\n",
        "\n",
        "<b> Hint: </b> There can be many inferences that one might draw about what the different frequencies of the word \"God\" reveals to us about these texts and the cultures that they come from. Try to think of categories using which we can diffrentiate between texts in our corpus. What happens when we compare them based on their genre? What happens when we compare them based on their years of publication? What about their cultural contexts? What kind of linguistic, cultural, social inferences can we draw from the results of this basic text-mining?\n",
        "\n",
        "To guide your inferences, you can think of some of the insights that people who've used this resource in workshops conducted by Gupta have come up with. Some people pointed out in certain while the concept of God was very important in classical times, in more recent modern history its relevance has become more varied. While in some social contexts, like in American Presidential speeches, and in existential-spiritual novels like Moby Dick, it remains important in various other contexts of language use like internet chats and news articles, it is not that relevant anymore.\n",
        "\n",
        "Interesting isn't it how visualizing frequencies of words across texts can lead to such insights? Keep in mind though that such inferences aren't meant to be conclusive but rather help us in exploring our data and generate insights that we might want to explore in depth using a combination of other techniques.\n",
        "\n"
      ]
    },
    {
      "cell_type": "markdown",
      "id": "5fe4ff14-04a3-4d3c-b2ab-8c20e863c5a0",
      "metadata": {
        "id": "5fe4ff14-04a3-4d3c-b2ab-8c20e863c5a0"
      },
      "source": [
        "<b> 2.1.2: Dispersion plots </b>\n",
        "\n",
        "\n"
      ]
    },
    {
      "cell_type": "markdown",
      "id": "0c6a07ae-e16a-431f-b92d-e82f90ea27da",
      "metadata": {
        "id": "0c6a07ae-e16a-431f-b92d-e82f90ea27da"
      },
      "source": [
        "<b> What are dispersion plots? </b>"
      ]
    },
    {
      "cell_type": "markdown",
      "id": "78a9fe2f-f118-49c5-b266-9c5f4ab05f90",
      "metadata": {
        "id": "78a9fe2f-f118-49c5-b266-9c5f4ab05f90"
      },
      "source": [
        "Dispersion plots can be another very useful type of data visualization in text-mining which provide us with a different perspective into our textual data than what bar graphs do. As Bird et al., put it well, \"it is one thing to automatically detect that a particular word occurs in a text, and to display some words that appear in the same context. However, we can also determine the location of a word in the text: how many words from the beginning it appears. This positional information can be displayed using a dispersion plot.\" (Bird et al., 2019).\n",
        "\n",
        "Unlike a bar graph which tells us how many  total words exist in a corpus, dispersion plots give us insights into the position of those words within a corpus, telling us how the frequency of a word is distributed across a text. This can provide very interesting insights when we are trying to study how words or concepts change within a corpus or text over time. Let's try and understand this through an example."
      ]
    },
    {
      "cell_type": "markdown",
      "id": "327d4eb8-1df3-46c0-b7b5-3b9602a90a11",
      "metadata": {
        "id": "327d4eb8-1df3-46c0-b7b5-3b9602a90a11"
      },
      "source": [
        "<b> How can we create a dispersion plot? </b>\n",
        "\n",
        "The code for a dispersion plot can be slightly more complicated than most other code we have seen so far. Let's do this step by step using text4, which as you might remember from Section 1.13 contains inaugural addresses given by american presidents over the years arranged in a chronological order (i.e. the first president's speech is present at the beginning of the book and more recent presidents' speeches are present at the end of the book). Let's see how how the freqeuncy of the word \"God\" changes in this text over time. Read and run the code cell below:  "
      ]
    },
    {
      "cell_type": "code",
      "source": [
        "# First let's load the necessary Python libraries from where we will be using functions required to create this plot\n",
        "\n",
        "import numpy as np #This is a new library called \"numpy\" (Harris et al., 2020) that we need for this code. In this command we simply define that we will use \"np\" as a short-form each time we want to use a function from this library.\n",
        "import matplotlib.pyplot as plt #Similarly here, we load functions from the matplotlib library and say that we will use \"plt\" as a shortform whenever we want to use a function from this library.\n",
        "\n",
        "# Then, let's specify the data we need to create this plot\n",
        "\n",
        "#First, we need to define which text we are creating the plot from\n",
        "text = text4\n",
        "\n",
        "#Next, we need to define the word for which we are creating the dispersion plot\n",
        "target_word = \"God\"\n",
        "\n",
        "# After this, we need to find the positions in the text where our target_word appears.\n",
        "#To do this, we first convert our text into what is called an \"array\". We can think of an array as a long list where each word in a text is stored separately and its position is also noted.\n",
        "text_converted_into_an_array = np.array (text)\n",
        "\n",
        "#Next, we use the line below to find out on what all positions in this array or list of words our target_word (which is \"God\") appears and store those positionsin the variable 'positions'.\n",
        "positions = np.where(text_converted_into_an_array == target_word)[0]\n",
        "\n",
        "# Now, we are ready to create a plot to visualize the dispersion of our target word \"God\" in our corpus of American presidential speeches.\n",
        "\n",
        "#We begin by creating an empty visualization canvas called a \"figure\". At this point, there's nothing on the canvas—it's like a blank piece of paper.figure\n",
        "\n",
        "figure = plt.figure()\n",
        "\n",
        "#Let's now describe what we want the title of this plot to be\n",
        "plt.title(f'Dispersion Plot for the Word: {target_word}')\n",
        "\n",
        "#Next lets describe what we want the labels on the X axis and Y axis to be\n",
        "plt.xlabel('Position in Text')\n",
        "plt.ylabel('Target Word')\n",
        "\n",
        "#On the Y-axis, we also want to add a tick or a label for the specific word we are plotting. To do this, we use this line of code:\n",
        "plt.yticks([0], [target_word])\n",
        "\n",
        "\n",
        "#Now, let's create code that will tell the computer what values we are plotting on the X and Y axis, and also what color etc. we want for the plot\n",
        "plt.scatter(positions, [0]*len(positions), marker='|', s=100, color='blue')\n",
        "\n",
        "#Finally, we display\n",
        "plt.show()\n",
        "\n",
        "#Note: Since the original execution of code for a dispersion plot in the NLTK library leads to some errors, this visualization was created with assistance from ChatGPT, which as Doug Eyman showed in a recent edition of Kairos (2023), can be a helpful tool for assistance with writing code. The authors confirm that all code ideas generated by ChatGPT were reviewed and revised by the authors for accuracy.\n"
      ],
      "metadata": {
        "id": "9qxtTXiLwIzz"
      },
      "id": "9qxtTXiLwIzz",
      "execution_count": null,
      "outputs": []
    },
    {
      "cell_type": "markdown",
      "source": [
        "In the plot above, each row represents the whole text4 i.e. the corpus of speeches given by American presidents at their inaugurations and each blue stripe reprensts an instance where the target_word of our choice (here \"God\") in question appears in that text.\n",
        "\n",
        "<b>What kind of inferences can we draw from this dispersion plot? </b>\n",
        "\n",
        "<b>Hint</b>: Based on what you are interested to explore, there are many insights that are possible to explore with this dispersion plot. Just from a first glance, it is interesting to see the the word \"God\" isn't mentioned too many times at the beginning or in early presidential speeches, but it gradually starts to make a greater appearance. As a researcher, it might be interesting then to explore what changed to make American presidents use the word \"God\" a lot more frequently in their inaugural speeches!"
      ],
      "metadata": {
        "id": "649oWAugznoo"
      },
      "id": "649oWAugznoo"
    },
    {
      "cell_type": "markdown",
      "id": "e392de3e-2c01-43f7-bd7a-db79d4502f37",
      "metadata": {
        "id": "e392de3e-2c01-43f7-bd7a-db79d4502f37"
      },
      "source": [
        "\n",
        "    \n",
        "<b> Exercise 4: Creating Dispersion Plots </b>\n",
        "\n",
        "Revise the code below to change the target_word into something else that interests you. To do this, replace the phrase \"Enter_your_word_here\" with any word of your choice and then run the code cell. What do you see? What does that tell you about the American presidential speeches represented in this corpus? What insights can we draw from this?\n"
      ]
    },
    {
      "cell_type": "code",
      "execution_count": null,
      "id": "df9f9563-16ea-47fc-8ebe-cf0a67fc50af",
      "metadata": {
        "id": "df9f9563-16ea-47fc-8ebe-cf0a67fc50af"
      },
      "outputs": [],
      "source": [
        "# First let's load the necessary Python libraries from where we will be using functions required to create this plot\n",
        "\n",
        "import numpy as np #This is a new library called \"numpy\" (Harris et al., 2020) that we need for this code. In this command we simply define that we will use \"np\" as a short-form each time we want to use a function from this library.\n",
        "import matplotlib.pyplot as plt #Similarly here, we load functions from the matplotlib library and say that we will use \"plt\" as a shortform whenever we want to use a function from this library.\n",
        "\n",
        "# Then, let's specify the data we need to create this plot\n",
        "\n",
        "#First, we need to define which text we are creating the plot from\n",
        "text = text4\n",
        "\n",
        "#Next, we need to define the word for which we are creating the dispersion plot\n",
        "target_word = \"Enter_your_word_here\"\n",
        "\n",
        "# After this, we need to find the positions in the text where our target_word appears.\n",
        "#To do this, we first convert our text into what is called an \"array\". We can think of an array as a long list where each word in a text is stored separately and its position is also noted.\n",
        "text_converted_into_an_array = np.array (text)\n",
        "\n",
        "#Next, we use the line below to find out on what all positions in this array or list of words our target_word (which is \"God\") appears and store those positionsin the variable 'positions'.\n",
        "positions = np.where(text_converted_into_an_array == target_word)[0]\n",
        "\n",
        "# Now, we are ready to create a plot to visualize the dispersion of our target word \"God\" in our corpus of American presidential speeches.\n",
        "\n",
        "#We begin by creating an empty visualization canvas called a \"figure\". At this point, there's nothing on the canvas—it's like a blank piece of paper.figure\n",
        "\n",
        "figure = plt.figure()\n",
        "\n",
        "#Let's now describe what we want the title of this plot to be\n",
        "plt.title(f'Dispersion Plot for the Word: {target_word}')\n",
        "\n",
        "#Next lets describe what we want the labels on the X axis and Y axis to be\n",
        "plt.xlabel('Position in Text')\n",
        "plt.ylabel('Target Word')\n",
        "\n",
        "#On the Y-axis, we also want to add a tick or a label for the specific word we are plotting. To do this, we use this line of code:\n",
        "plt.yticks([0], [target_word])\n",
        "\n",
        "\n",
        "#Now, let's create code that will tell the computer what values we are plotting on the X and Y axis, and also what color etc. we want for the plot\n",
        "plt.scatter(positions, [0]*len(positions), marker='|', s=100, color='blue')\n",
        "\n",
        "#Finally, we display\n",
        "plt.show()\n"
      ]
    },
    {
      "cell_type": "markdown",
      "source": [
        "<b> 2.3 Technique Type 3: Reading Concordance Lines </b>\n",
        "\n",
        "<b> What are concordance lines? </b>\n",
        "\n",
        "Once we get an idea of some larger trends in our corpora that interest us, we may want to closely read how they appear in the context of different sections of our text. Concordance lines can be a great tool for exactly that. They are simply \"a list of all the occurences of a particular search term in a corpus, presented within the context in which they occur; usually a few words to the left and right of the search term\" (Baker, 2006, p. 71).\n",
        "\n",
        "<b> How can we view concordances lines? </b>\n",
        "\n",
        "The NLTK Library has an in-built function we can use to see concordance lines of key terms that interest us. Run the code cell below see how that happens.\n",
        "\n"
      ],
      "metadata": {
        "id": "_NBt02R7-c6j"
      },
      "id": "_NBt02R7-c6j"
    },
    {
      "cell_type": "code",
      "source": [
        "#here we first define which corpus we want to us. text3, as we might remember form section 1.13, is the corpus of the Book of Genesis.\n",
        "#by using the \"concordance\" function in conjunction with that text and by defining what word we want to see, we can now see some of the sentences where that word appears.\n",
        "\n",
        "text3.concordance(\"God\",lines = 50, width=120)\n",
        "\n",
        "#In the code above, we are specifying that we want to see 50 instances in text3 where the word \"God\" appears. We are also specifiying that in each instance we want to\n",
        "#see a width or context window of 120 characters around our target word. Based on our usage, we can tweak these parameters to show different kinds of concordance lines."
      ],
      "metadata": {
        "id": "1L4X9qeR_AR9"
      },
      "id": "1L4X9qeR_AR9",
      "execution_count": null,
      "outputs": []
    },
    {
      "cell_type": "markdown",
      "source": [
        "<b>What kind of inferences can we draw from these concordances lines? </b>\n",
        "\n",
        "<b> Hint:</b> Observe which words appear next to the word God most frequently. We see that the the words \"AND\" and \"Lord\" appear before the word \"God\" most frequently, while verbs like \"said\", \"blessed\", \"planted\" etc. are followed right after. What does this tell us about the role that the word God performs in this text? How does this different in other texts? Many insights are possible. You could maybe focus on the grammatical categories of the word \"God\". Has it been used as a proper noun or a common noun? What kind of tone does the sentence have where it has been used? It is very formal and reverential. Or is it more informal and irreverant? What words (nouns, adjectives, verbs etc.) appear usually near it? What do these differences tell us about the cultures and historical moments in which these texts appear?"
      ],
      "metadata": {
        "id": "5sioz79LbSY1"
      },
      "id": "5sioz79LbSY1"
    },
    {
      "cell_type": "markdown",
      "source": [
        "\n",
        "    \n",
        "<b> Exercise 5: Creating Concordance Lines </b>\n",
        "\n",
        "Run the code cell below to see concordance lines for the word \"God\" in text5 or the corpus of internet chat conversations. What do you see? Compared to the ways in which text3 or the Book of Genesis represented the word God, what differences do we notice here? What insights can we draw from this?\n"
      ],
      "metadata": {
        "id": "YesNcjU3b-h4"
      },
      "id": "YesNcjU3b-h4"
    },
    {
      "cell_type": "code",
      "source": [
        "text5.concordance(\"God\",lines = 50, width=120)"
      ],
      "metadata": {
        "id": "JBGhF_WecFnz"
      },
      "id": "JBGhF_WecFnz",
      "execution_count": null,
      "outputs": []
    },
    {
      "cell_type": "markdown",
      "id": "0c1d8b96-897e-45c6-bd13-1c78b1231a8b",
      "metadata": {
        "id": "0c1d8b96-897e-45c6-bd13-1c78b1231a8b"
      },
      "source": [
        "\n",
        "       \n",
        "<b> 2.4: Exploring some iconic studies that use these techniques </b>\n",
        "\n",
        "\n"
      ]
    },
    {
      "cell_type": "markdown",
      "id": "aa2e786b-44e1-4daf-8fa8-4b2c5b14bbb1",
      "metadata": {
        "id": "aa2e786b-44e1-4daf-8fa8-4b2c5b14bbb1"
      },
      "source": [
        "Good work so far! This very simple technique of counting words that interest us and comparing them across texts can lead to very insightful results. If you are interested, please explore some examples below of famous studies that have built on these techniques to find interested insights.\n",
        "\n",
        "1) Example 1: Let's see a wonderful example of how a researcher used frequency counts and data visualizations to map out how corporate organizations did or not did not support the BLM movement on their Twitter profiles, something that could then be used to for advocacy purposes: https://www.kmcelwee.com/fortune-100-blm-report/site/corporate-summaries.html\n",
        "\n",
        "\n",
        "2) Example 2: Langer et al. (2012) map out how the frequency and diversity of terms that refer to biodiversity has been steadily declining over the last 200 years in Western literature, something that reveals our growing alienation from the natural world https://besjournals.onlinelibrary.wiley.com/doi/abs/10.1002/pan3.10256"
      ]
    },
    {
      "cell_type": "markdown",
      "id": "dd44e2b2-8301-4510-a44c-b6e724c1c2ae",
      "metadata": {
        "id": "dd44e2b2-8301-4510-a44c-b6e724c1c2ae"
      },
      "source": [
        "<h1> Part 3: Applying to your work </h1>\n",
        "\n",
        "We hope that you enjoyed learning about these basic text-mining techniques using our computational notebook. Going forward from here, we recommend using some of these resources to continue your learning journey:\n",
        "\n",
        "\n",
        "    \n",
        "<u>1. Play around with existing corpora and textual datasets: </u>\n",
        "\n",
        "https://www.kaggle.com/datasets\n",
        "    \n",
        "https://crow.corporaproject.org/\n",
        "\n",
        "https://elicorpora.info/main\n",
        "    \n",
        "https://dataverse.harvard.edu/dataverse/gwu-libraries\n",
        "    \n",
        "https://catalog.docnow.io/\n",
        "    \n",
        "<u> 2. Learn how to build your own corpus of texts: </u>\n",
        "    \n",
        "https://writecrow.org/ciabatta/\n",
        "    \n",
        "<u> 3. Read journals that publish research with text mining techniques for Humanities/Social Sciences </u>\n",
        "    \n",
        "Journal of Cultural Analytics: https://culturalanalytics.org/issues  \n",
        "    \n",
        "Digital Humanities Quarterly: http://digitalhumanities.org/dhq/\n",
        "    \n",
        "Journal of Writing Analytics:  \n",
        "\n",
        "<u> 4. Web resoures with beginner friendly lessons on text-mining </u>\n",
        "    \n",
        "Where to start with text mining by Ted Underwood:https://tedunderwood.com/2012/08/14/where-to-start-with-text-mining/\n",
        "    \n",
        "University of Arizona Library's Guide to Text-Mining: https://libguides.library.arizona.edu/text-mining\n",
        "    \n",
        "JSTOR's Text Analysis Pedagogy Institute's Resources: https://labs.jstor.org/projects/text-analysis-pedagogy-institute-2/\n",
        "    \n",
        "Introduction to Cultural Analytics & Python: https://melaniewalsh.github.io/Intro-Cultural-Analytics/welcome.html\n",
        "\n",
        "<u> 5. Using generative AI tools like ChatGPT to assist with coding tasks </u>\n",
        "\n",
        "Eyman, D. E. and, & ChatGPT. (2023). Making a Webtext with ChatGPT. 28.1. http://kairos.technorhetoric.net/28.1/disputatio/eyman-chatgpt/index.html\n",
        "\n",
        "\n",
        "\n",
        "\n"
      ]
    },
    {
      "cell_type": "markdown",
      "id": "f0bd2c1e-180c-4ae5-b7a8-801c90b70445",
      "metadata": {
        "id": "f0bd2c1e-180c-4ae5-b7a8-801c90b70445"
      },
      "source": [
        "<h2> Feedback </h2>\n",
        "\n",
        "If you notice any errors while using this notebook, or have any suggestions on how to improve this resource, please feel free to write to us:\n",
        "\n",
        "Anuj Gupta (anujgupta@arizona.edu)\n",
        "\n",
        "Heather Froehlich (froehlich@arizona.edu)"
      ]
    },
    {
      "cell_type": "markdown",
      "id": "904ee42d-6c0b-4a83-ad50-dc58838be157",
      "metadata": {
        "id": "904ee42d-6c0b-4a83-ad50-dc58838be157"
      },
      "source": [
        "\n",
        "\n",
        "<h2> Acknowledgements</h2> ***Note for HFG: This section was originally written with me as the sole author. I'd love advice on how we might revise this to show both of us, and also how to revise it for publication. Additionally, I've also included a note to be transparent about how I used ChatGPT to debug my code for the dispersion plot. Would love to discuss that with you :)***"
      ]
    },
    {
      "cell_type": "markdown",
      "id": "dd09fc73-d324-4961-a404-6db406b8f8ea",
      "metadata": {
        "id": "dd09fc73-d324-4961-a404-6db406b8f8ea"
      },
      "source": [
        "1. This resource was developed as part of the Workshop Series from the Digital Scholarship and Data Science Fellowship Program funded by the University Libraries at the University of Arizona. You can learn more about this program by clicking here: https://data.library.arizona.edu/data-science/ds2f\n",
        "\n",
        "2. Anuj is grateful to Jeffrey Oliver and Megan Senseney for their inspiring mentorship and well-scaffolded year long training program that helped me produce this resource. He is also thankful to Jim Martin, Yvonne Mery, Leslie Sult, and Cheryl Casey for their insightful lectures that were delivered as part of this fellowship on various aspects of data science, digital pedagogy, and open educatioanl resource production.\n",
        "\n",
        "3. Anuj is also grateful to Prof. Charlie Gomez and his amazing class INFO 514: Computational Social Science at the University of Arizona. The Jupyter Notebooks that he created in his class and the style guidelines he followed in them were the initial inspiration behind Anuj's idea to use this genre as a tool for teaching text-mining.\n",
        "\n",
        "4. Anuj is also grateful to Prof. Shelley Staples and Mark Fuller at the CROW Lab with whom he did an indepdent study during Spring 2022 and learnt the ropes of text mining and corpus linguistics.\n",
        "\n",
        "5. Anuj would also like to thank the RCTE Program and its faculty who created the Immersive Cultural Requirement (ICR) for PhD students which requires them to immerse themselves in a culture, learn new skills and reciprocate. That programmatic requirement encouraged him to immerse himself in the text-mining community, learn coding, and am now trying to reciprocate through such resources and workshops.\n",
        "\n",
        "6. Anuj is also grateful to JSTOR's TAPI summer institute, University of Birmingham's Corpus Linguistics summer institute, and the ISTA 130: Introduction to Computational Thinking class at the University of Arizona, all avenues where he learnt a lot of text-mining skills.\n",
        "\n",
        "7. Anuj is also grateful to the amazing coding community online on Github, Stackoverflow, and Youtube who are so generous with sharing resources and helping out beginners through threads and discussions. The academic world could really benefit a lot from following the open-sourced and compassionate nature of knowledge building that these communities follow online.\n",
        "\n",
        "8. Finally, Anuj would also like to acknowledge that using Generative AI tools like ChatGPT to debug some of his code, especially with regards to the dispersion plot in section 2.2.2. has proven to be very helpful. We confirm though that apart from section 2.2.2, all the other text and code written for this notebook was generated by the authors themselves. As Doug Eyman (2023)'s experiments with creating a webtext for Kairos have shown, scholars who are new to using coding for their digital scholarship, can find it helpful to use some of these emerging technologies to assist their coding competencies. As he puts it himself, \"ChatGPT might be helpful as a learning tool, and for providing basic coding as a starting point\". He also adds though that given its propensity to generate inaccurate content \"it would be more efficient to not use it beyond the first iteration\" of basic code. Thus, while Anuj used it to assist him with code for the dispersion plot exercise, he was careful to review and revise the code instead of taking it at face value, for which his two years of experience with coding was essential. Addititionally, guidelines on the ethics of using these tools for published material are constantly evolving. An important practice that we see emerging is to transparently declare the purposes and sections for which ChatGPT has been used (Mills, 2023). This is why, both in this note, as well as in the paper itself, we've clearly marked out that we used ChatGPT for linmited assistance in section 2.2.2. All the other code and text was generated by the authors themselves. Whenever any additional sources were used, they have been cited accordingly.\n",
        "\n",
        "[Note to HGF: I've included this note to ensure that I am transparent about how I used ChatGPT for one of the sections. It'll be interested to see how the editors respond to it, especially since they released an article encouraging the use of ChatGPT for code generation for limited purposes in their last issue. If you prefer though that we do not enter this terroritory at all, then I would love to discuss with you how to revise/remove/transform the dispersion plot section. Either way, looking forward to our discussions about this :)]"
      ]
    },
    {
      "cell_type": "markdown",
      "id": "326dcde4-354e-4489-b396-ff495b740aa4",
      "metadata": {
        "id": "326dcde4-354e-4489-b396-ff495b740aa4"
      },
      "source": [
        "\n",
        "<h2> Works Cited</h2>\n",
        "   \n",
        "\n",
        "\n"
      ]
    },
    {
      "cell_type": "markdown",
      "id": "80f25608-5c9d-4cfc-9508-e01584fa460a",
      "metadata": {
        "id": "80f25608-5c9d-4cfc-9508-e01584fa460a"
      },
      "source": [
        "1) Archer, D. (2009). What’s in a Word-list?: Investigating Word Frequency and Keyword Extraction. Ashgate Publishing, Ltd.\n",
        "\n",
        "2) Baker, P. (2006). Using corpora in discourse analysis. Continuum.\n",
        "\n",
        "3) Bestgen, Y. (2020). Comparing Lexical Bundles across Corpora of Different Sizes: The Zipfian Problem. Journal of Quantitative Linguistics, 27(3), 272–290. https://doi.org/10.1080/09296174.2019.1566975\n",
        "\n",
        "4) Bird, S., Klein, E., & Loper, E. (2019). Natural Language Processing with Python – Analyzing Text with the Natural Language Toolkit. https://www.nltk.org/book/\n",
        "\n",
        "5) Eyman, D. E. and, & ChatGPT. (2023). Making a Webtext with ChatGPT. 28.1. http://kairos.technorhetoric.net/28.1/disputatio/eyman-chatgpt/index.html\n",
        "\n",
        "\n",
        "6) Harris, C. R., Millman, K. J., Van Der Walt, S. J., Gommers, R., Virtanen, P., Cournapeau, D., Wieser, E., Taylor, J., Berg, S., Smith, N. J., Kern, R., Picus, M., Hoyer, S., Van Kerkwijk, M. H., Brett, M., Haldane, A., Del Río, J. F., Wiebe, M., Peterson, P., … Oliphant, T. E. (2020). Array programming with NumPy. Nature, 585(7825), 357–362. https://doi.org/10.1038/s41586-020-2649-2\n",
        "\n",
        "7) Hunter, J. D. (2007). Matplotlib: A 2D Graphics Environment. Computing in Science & Engineering, 9(3), 90–95. https://doi.org/10.1109/MCSE.2007.55\n",
        "\n",
        "8) Jockers, M. L. (2013). Macroanalysis: Digital Methods and Literary History. University of Illinois Press.\n",
        "\n",
        "9) Mills, N. (2023, October 3). 16.1: Template Phrases for Critiquing AI Outputs. Humanities LibreTexts. https://human.libretexts.org/Bookshelves/Composition/Advanced_Composition/How_Arguments_Work_-_A_Guide_to_Writing_and_Analyzing_Texts_in_College_(Mills)/16%3A_Artificial_Intelligence_and_College_Writing_(Under_Construction)/16.1%3A_Template_Phrases_for_Critiquing_AI_Outputs\n",
        "\n",
        "\n",
        "10) Schreiber, J., & Melon�on, L. (Eds.). (2022). Assembling Critical Components: A Framework for Sustaining Technical and Professional Communication. The WAC Clearinghouse; University Press of Colorado. https://doi.org/10.37514/TPC-B.2022.1381\n",
        "\n",
        "11) Staples, S., Egbert, J., Biber, D., & Gray, B. (2016). Academic Writing Development at the University Level: Phrasal and Clausal Complexity Across Level of Study, Discipline, and Genre. Written Communication, 33(2), 149–183. https://doi.org/10.1177/0741088316631527\n",
        "\n",
        "12) Walsh, M. (2021). Intro-Cultural-Analytics: Version 1.1.0. Zenodo. https://doi.org/10.5281/ZENODO.4411250\n"
      ]
    },
    {
      "cell_type": "markdown",
      "id": "ae83fe70-b648-419c-833e-4c1ba6e22182",
      "metadata": {
        "id": "ae83fe70-b648-419c-833e-4c1ba6e22182"
      },
      "source": [
        "<div class=\"alert alert-info\">\n",
        "\n",
        "<h2> Copyright information </h2>"
      ]
    },
    {
      "cell_type": "markdown",
      "id": "aec25394-8dbc-45e2-9cea-6c5f0885fb98",
      "metadata": {
        "id": "aec25394-8dbc-45e2-9cea-6c5f0885fb98"
      },
      "source": [
        "Shield: [![CC BY 4.0][cc-by-shield]][cc-by]\n",
        "\n",
        "This work is licensed to Anuj Gupta and Heather Froehlich under a\n",
        "[Creative Commons Attribution 4.0 International License][cc-by].\n",
        "\n",
        "[![CC BY 4.0][cc-by-image]][cc-by]\n",
        "\n",
        "[cc-by]: http://creativecommons.org/licenses/by/4.0/\n",
        "[cc-by-image]: https://i.creativecommons.org/l/by/4.0/88x31.png\n",
        "[cc-by-shield]: https://img.shields.io/badge/License-CC%20BY%204.0-lightgrey.svg"
      ]
    }
  ],
  "metadata": {
    "kernelspec": {
      "display_name": "Python 3 (ipykernel)",
      "language": "python",
      "name": "python3"
    },
    "language_info": {
      "codemirror_mode": {
        "name": "ipython",
        "version": 3
      },
      "file_extension": ".py",
      "mimetype": "text/x-python",
      "name": "python",
      "nbconvert_exporter": "python",
      "pygments_lexer": "ipython3",
      "version": "3.8.13"
    },
    "toc-autonumbering": false,
    "toc-showcode": false,
    "toc-showmarkdowntxt": false,
    "colab": {
      "provenance": [],
      "include_colab_link": true
    }
  },
  "nbformat": 4,
  "nbformat_minor": 5
}